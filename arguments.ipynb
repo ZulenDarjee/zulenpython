{
 "cells": [
  {
   "cell_type": "code",
   "execution_count": null,
   "id": "0fe9e7ab",
   "metadata": {},
   "outputs": [],
   "source": [
    "#*args="
   ]
  },
  {
   "cell_type": "code",
   "execution_count": null,
   "id": "896ca031",
   "metadata": {},
   "outputs": [],
   "source": []
  },
  {
   "cell_type": "code",
   "execution_count": 2,
   "id": "3c61ace3",
   "metadata": {},
   "outputs": [],
   "source": [
    "def myfunc(a,b):\n",
    "    return (a*b)"
   ]
  },
  {
   "cell_type": "code",
   "execution_count": 4,
   "id": "4f762872",
   "metadata": {},
   "outputs": [
    {
     "data": {
      "text/plain": [
       "200"
      ]
     },
     "execution_count": 4,
     "metadata": {},
     "output_type": "execute_result"
    }
   ],
   "source": [
    "myfunc(10,20)"
   ]
  },
  {
   "cell_type": "code",
   "execution_count": 15,
   "id": "bb396b18",
   "metadata": {},
   "outputs": [],
   "source": [
    "def myfunc(a,b,c=0,d=0):\n",
    "    return sum((a,b,c,d)) * 0.05 "
   ]
  },
  {
   "cell_type": "code",
   "execution_count": 16,
   "id": "ebf18922",
   "metadata": {},
   "outputs": [
    {
     "data": {
      "text/plain": [
       "5.0"
      ]
     },
     "execution_count": 16,
     "metadata": {},
     "output_type": "execute_result"
    }
   ],
   "source": [
    "myfunc (10,20,30,40)"
   ]
  },
  {
   "cell_type": "code",
   "execution_count": 19,
   "id": "9268dd8e",
   "metadata": {},
   "outputs": [],
   "source": [
    "def myfunc(*args):\n",
    "    return sum(args)*0.05"
   ]
  },
  {
   "cell_type": "code",
   "execution_count": 20,
   "id": "5231ece6",
   "metadata": {},
   "outputs": [
    {
     "data": {
      "text/plain": [
       "10.5"
      ]
     },
     "execution_count": 20,
     "metadata": {},
     "output_type": "execute_result"
    }
   ],
   "source": [
    "myfunc(10,20,30,40,50,60)"
   ]
  },
  {
   "cell_type": "code",
   "execution_count": 21,
   "id": "24a67115",
   "metadata": {},
   "outputs": [
    {
     "name": "stdout",
     "output_type": "stream",
     "text": [
      "10\n",
      "20\n",
      "30\n",
      "40\n",
      "50\n",
      "60\n",
      "70\n"
     ]
    }
   ],
   "source": [
    "def myfunc(*args):\n",
    "    for item in args:\n",
    "        print(item)\n",
    "myfunc(10,20,30,40,50,60,70)"
   ]
  },
  {
   "cell_type": "code",
   "execution_count": 23,
   "id": "bd5bc65f",
   "metadata": {},
   "outputs": [
    {
     "name": "stdout",
     "output_type": "stream",
     "text": [
      "{'fruit': 'Apple', 'food': 'Rice', 'veggie': 'Lettuce'}\n",
      "My choice of fruit is Rice\n"
     ]
    }
   ],
   "source": [
    "def myfunc(**kwargs):\n",
    "    print(kwargs)\n",
    "    if 'fruit' in kwargs:\n",
    "        print('My choice of fruit is {}'.format(kwargs['food']))\n",
    "    else:\n",
    "        print('I did not not find any fruit here')\n",
    "myfunc(fruit='Apple',food = 'Rice',veggie = 'Lettuce')"
   ]
  },
  {
   "cell_type": "code",
   "execution_count": 1,
   "id": "a71eaab6",
   "metadata": {},
   "outputs": [],
   "source": [
    "def mynewfunc(*args,**kwargs):\n",
    "    print('I would like {} {}'.format(args[0],kwargs['Food']))"
   ]
  },
  {
   "cell_type": "code",
   "execution_count": 4,
   "id": "aa1b92bc",
   "metadata": {},
   "outputs": [
    {
     "name": "stdout",
     "output_type": "stream",
     "text": [
      "I would like 10 Biryani\n"
     ]
    }
   ],
   "source": [
    "mynewfunc(10,20,30,40,Food= 'Biryani',fruit='Mango',veggie='potato')"
   ]
  },
  {
   "cell_type": "code",
   "execution_count": null,
   "id": "07d36f22",
   "metadata": {},
   "outputs": [],
   "source": []
  }
 ],
 "metadata": {
  "kernelspec": {
   "display_name": "Python 3 (ipykernel)",
   "language": "python",
   "name": "python3"
  },
  "language_info": {
   "codemirror_mode": {
    "name": "ipython",
    "version": 3
   },
   "file_extension": ".py",
   "mimetype": "text/x-python",
   "name": "python",
   "nbconvert_exporter": "python",
   "pygments_lexer": "ipython3",
   "version": "3.10.9"
  }
 },
 "nbformat": 4,
 "nbformat_minor": 5
}

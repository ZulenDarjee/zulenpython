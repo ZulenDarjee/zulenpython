{
 "cells": [
  {
   "cell_type": "markdown",
   "id": "80c43b68",
   "metadata": {},
   "source": [
    "Assessment 1: Temperature Converter (5 Marks)\n",
    "Problem Statement:\n",
    "Write a Python function called convert_temperature(temp, from_scale, to_scale) that takes a temperature, a scale to convert from, and a scale to convert to as input. The scales can be \"Celsius\", \"Fahrenheit\", or \"Kelvin\". The function should convert the temperature to the requested scale.\n",
    "Example Inputs and Outputs:\n",
    "•\tconvert_temperature(0, 'Celsius', 'Fahrenheit') should return 32\n",
    "•\tconvert_temperature(32, 'Fahrenheit', 'Celsius') should return 0\n",
    "•\tconvert_temperature(0, 'Celsius', 'Kelvin') should return 273.15\n",
    "\n",
    "Assessment 2: Create python program using modules , collections, OS, date-time, math, and random operations also note the usecase of each modules\n",
    "Assessment 3: Program to perform Linear Search.\n",
    "Linear search is a simple search algorithm that checks every element in the list sequentially until it finds the target value.\n",
    "\n",
    "\n"
   ]
  },
  {
   "cell_type": "code",
   "execution_count": 16,
   "id": "484d0172",
   "metadata": {},
   "outputs": [
    {
     "name": "stdout",
     "output_type": "stream",
     "text": [
      "32.0\n",
      "0.0\n",
      "273.12\n"
     ]
    }
   ],
   "source": [
    "def convert_temperature(temp, from_scale, to_scale):\n",
    "    if from_scale == to_scale:\n",
    "        return temp\n",
    "\n",
    "    if from_scale == 'Celsius':\n",
    "        if to_scale == 'Fahrenheit':\n",
    "            return (temp * 9/5) + 32\n",
    "        elif to_scale == 'Kelvin':\n",
    "            return temp + 273.12\n",
    "\n",
    "    elif from_scale == 'Fahrenheit':\n",
    "        if to_scale == 'Celsius':\n",
    "            return (temp - 32) * 5/9\n",
    "        elif to_scale == 'Kelvin':\n",
    "            return (temp + 459.67) * 5/9\n",
    "\n",
    "    elif from_scale == 'Kelvin':\n",
    "        if to_scale == 'Celsius':\n",
    "            return temp - 273.12\n",
    "        elif to_scale == 'Fahrenheit':\n",
    "            return (temp * 9/5) - 459.67\n",
    "print(convert_temperature(0, 'Celsius', 'Fahrenheit')) \n",
    "print(convert_temperature(32, 'Fahrenheit', 'Celsius')) \n",
    "print(convert_temperature(0, 'Celsius', 'Kelvin'))  \n"
   ]
  },
  {
   "cell_type": "code",
   "execution_count": 15,
   "id": "7eca4d47",
   "metadata": {},
   "outputs": [
    {
     "name": "stdout",
     "output_type": "stream",
     "text": [
      "Current Directory: C:\\Users\\LENOVO\\Desktop\\Zulen python\\Assessment 4th july\n",
      "Current Date and Time: 2023-07-04 02:42:03.574022\n",
      "Random Number: 4\n",
      "Character Count: Counter({'l': 3, 'o': 2, 'H': 1, 'e': 1, ',': 1, ' ': 1, 'W': 1, 'r': 1, 'd': 1, '!': 1})\n"
     ]
    }
   ],
   "source": [
    "import os\n",
    "import datetime\n",
    "import random\n",
    "import math\n",
    "from collections import Counter\n",
    "current_directory = os.getcwd()\n",
    "print(\"Current Directory:\", current_directory)\n",
    "current_datetime = datetime.datetime.now()\n",
    "print(\"Current Date and Time:\", current_datetime)\n",
    "random_number = random.randint(1, 10)\n",
    "print(\"Random Number:\", random_number)\n",
    "string = \"Hello, World!\"\n",
    "character_count = Counter(string)\n",
    "print(\"Character Count:\", character_count)"
   ]
  },
  {
   "cell_type": "code",
   "execution_count": null,
   "id": "08afa5a5",
   "metadata": {},
   "outputs": [],
   "source": [
    "def linear_search(arr, target):\n",
    "    for i, num in "
   ]
  }
 ],
 "metadata": {
  "kernelspec": {
   "display_name": "Python 3 (ipykernel)",
   "language": "python",
   "name": "python3"
  },
  "language_info": {
   "codemirror_mode": {
    "name": "ipython",
    "version": 3
   },
   "file_extension": ".py",
   "mimetype": "text/x-python",
   "name": "python",
   "nbconvert_exporter": "python",
   "pygments_lexer": "ipython3",
   "version": "3.10.9"
  }
 },
 "nbformat": 4,
 "nbformat_minor": 5
}

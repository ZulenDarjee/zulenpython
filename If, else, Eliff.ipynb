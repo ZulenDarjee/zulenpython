{
 "cells": [
  {
   "cell_type": "code",
   "execution_count": 1,
   "id": "dc1856c1",
   "metadata": {},
   "outputs": [],
   "source": [
    "element= [2,3,7,9,8,6]\n",
    "\n"
   ]
  },
  {
   "cell_type": "code",
   "execution_count": 2,
   "id": "417fe3b3",
   "metadata": {},
   "outputs": [
    {
     "name": "stdout",
     "output_type": "stream",
     "text": [
      "2\n",
      "3\n",
      "7\n",
      "9\n",
      "8\n",
      "6\n"
     ]
    }
   ],
   "source": [
    "for i in element:\n",
    "    print(i)"
   ]
  },
  {
   "cell_type": "code",
   "execution_count": 3,
   "id": "d86693c6",
   "metadata": {},
   "outputs": [],
   "source": [
    "#IF,else,eliff statements"
   ]
  },
  {
   "cell_type": "code",
   "execution_count": 6,
   "id": "5148352f",
   "metadata": {},
   "outputs": [
    {
     "ename": "SyntaxError",
     "evalue": "expected ':' (3173982869.py, line 1)",
     "output_type": "error",
     "traceback": [
      "\u001b[1;36m  Cell \u001b[1;32mIn[6], line 1\u001b[1;36m\u001b[0m\n\u001b[1;33m    if some_condition\u001b[0m\n\u001b[1;37m                     ^\u001b[0m\n\u001b[1;31mSyntaxError\u001b[0m\u001b[1;31m:\u001b[0m expected ':'\n"
     ]
    }
   ],
   "source": [
    "if some_condition\n",
    "   #execute some code\n",
    "else:\n",
    "    #do something else"
   ]
  },
  {
   "cell_type": "code",
   "execution_count": null,
   "id": "05aae31b",
   "metadata": {},
   "outputs": [],
   "source": [
    "if True:\n",
    "    print('Its True')"
   ]
  },
  {
   "cell_type": "code",
   "execution_count": null,
   "id": "01c7a478",
   "metadata": {},
   "outputs": [],
   "source": [
    "if 3>2:\n",
    "    print('it is greater')"
   ]
  },
  {
   "cell_type": "code",
   "execution_count": null,
   "id": "0b6d2d97",
   "metadata": {},
   "outputs": [],
   "source": [
    "hungry = True\n",
    "if hungry:\n",
    "    print('feed me ')"
   ]
  },
  {
   "cell_type": "code",
   "execution_count": 7,
   "id": "7d7f34f0",
   "metadata": {},
   "outputs": [
    {
     "name": "stdout",
     "output_type": "stream",
     "text": [
      "Feed me\n"
     ]
    }
   ],
   "source": [
    "hungry = True\n",
    "if hungry:\n",
    "    print('Feed me')"
   ]
  },
  {
   "cell_type": "code",
   "execution_count": null,
   "id": "4cb400d2",
   "metadata": {},
   "outputs": [],
   "source": []
  }
 ],
 "metadata": {
  "kernelspec": {
   "display_name": "Python 3 (ipykernel)",
   "language": "python",
   "name": "python3"
  },
  "language_info": {
   "codemirror_mode": {
    "name": "ipython",
    "version": 3
   },
   "file_extension": ".py",
   "mimetype": "text/x-python",
   "name": "python",
   "nbconvert_exporter": "python",
   "pygments_lexer": "ipython3",
   "version": "3.10.9"
  }
 },
 "nbformat": 4,
 "nbformat_minor": 5
}

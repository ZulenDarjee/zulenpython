{
 "cells": [
  {
   "cell_type": "markdown",
   "id": "c83fc3b3",
   "metadata": {},
   "source": [
    "1. Python Program to convert decimal to binary, octal and hexadecimal.\n",
    "Python Program to multiply and add two Matrices.\n",
    "\n",
    "2. Python Program to Sort Words in Alphabetic Order.\n",
    "Python Program to implement at least five geometric Figures using turtle.\n",
    "\n",
    "3. Python Program to check whether a string is palindrome or not.\n",
    "Python Program to create Pyramid Pattern.\n",
    "\n",
    "4. Python Program to get file creation and modification Date.\n",
    "Python Program to convert lists to dictionary.\n",
    "\n",
    "5. Python Program to create a Lap Timer.\n",
    "Python Program to create unique values from dictionary values."
   ]
  },
  {
   "cell_type": "code",
   "execution_count": 6,
   "id": "a77eebcc",
   "metadata": {},
   "outputs": [
    {
     "name": "stdout",
     "output_type": "stream",
     "text": [
      "The decimal value is 200 is:\n",
      "0b11001000 in binary\n",
      "0o310 in octal\n",
      "0xc8 in hexadecimal\n"
     ]
    }
   ],
   "source": [
    "dec = 200 \n",
    "print(\"The decimal value is\", dec ,\"is:\")\n",
    "print(bin(dec), \"in binary\")\n",
    "print(oct(dec), \"in octal\")\n",
    "print(hex(dec), \"in hexadecimal\") "
   ]
  },
  {
   "cell_type": "code",
   "execution_count": 2,
   "id": "9381b46c",
   "metadata": {},
   "outputs": [
    {
     "name": "stdout",
     "output_type": "stream",
     "text": [
      "The addition of two matrices:\n",
      "[9, 9, 9]\n",
      "\n",
      "The multiplication of two matrices:\n",
      "[35, 26, 13]\n",
      "[26, 20, 10]\n",
      "[7, 4, 4]\n",
      "\n",
      "The multiplication of two matrices:\n",
      "[35, 26, 13]\n",
      "[26, 20, 10]\n"
     ]
    }
   ],
   "source": [
    "X = [[4,5,7],\n",
    "    [4,2,3]]\n",
    "\n",
    "Y = [[5,4,2],\n",
    "     [3,2,1]]\n",
    "\n",
    "result_add = [[0,0,0],\n",
    "              [0,0,0]]\n",
    "\n",
    "result_mul = [[0,0,0],\n",
    "             [0,0,0]]\n",
    "\n",
    "#adding matrices\n",
    "for i in range(len(X)):\n",
    "    for j in range(len(X[0])):\n",
    "        result_add[i][j] = X[i][j] + Y[i][j]\n",
    "        \n",
    "# Multiplication matrices\n",
    "for i in range(len(X)):\n",
    "    for j in range(len(Y[0])):\n",
    "        for k in range(len(Y)):\n",
    "            result_mul[i][j]  += X[i][k]* Y[k][j]\n",
    "            \n",
    "print(\"The addition of two matrices:\")\n",
    "for r in result_add:\n",
    "    print(r)\n",
    "\n",
    "    print(\"\\nThe multiplication of two matrices:\")\n",
    "    for r in result_mul:\n",
    "        print(r)"
   ]
  },
  {
   "cell_type": "code",
   "execution_count": 31,
   "id": "0b2fc303",
   "metadata": {},
   "outputs": [
    {
     "name": "stdout",
     "output_type": "stream",
     "text": [
      "The sorted words are:\n",
      "an\n",
      "cased\n",
      "example\n",
      "hello\n",
      "is\n",
      "letters\n",
      "this\n",
      "with\n"
     ]
    }
   ],
   "source": [
    "#2\n",
    "my_str = \"Hello this is an example with cased letters\"\n",
    "#to take input from user\n",
    "# use my_str = input(\"Enter your name\")\n",
    "words = [word.lower()for word in my_str.split()]\n",
    "words.sort()\n",
    "print(\"The sorted words are:\")\n",
    "for word in words:\n",
    "    print(word)"
   ]
  },
  {
   "cell_type": "code",
   "execution_count": 3,
   "id": "0125066b",
   "metadata": {},
   "outputs": [
    {
     "name": "stdout",
     "output_type": "stream",
     "text": [
      "Enter a sentencce: Zulen Darjee\n",
      "words in alphabetical order: \n",
      "Darjee\n",
      "Zulen\n"
     ]
    }
   ],
   "source": [
    "sentence = input(\"Enter a sentencce: \")\n",
    "words = sentence.split()\n",
    "sorted_words = sorted(words)\n",
    "print(\"words in alphabetical order: \")\n",
    "for word in sorted_words:\n",
    "    print(word)"
   ]
  },
  {
   "cell_type": "code",
   "execution_count": 5,
   "id": "c9bbcdd0",
   "metadata": {},
   "outputs": [
    {
     "name": "stdout",
     "output_type": "stream",
     "text": [
      "        9 \n",
      "       9 9 \n",
      "      9 9 9 \n",
      "     9 9 9 9 \n",
      "    9 9 9 9 9 \n",
      "   9 9 9 9 9 9 \n",
      "  9 9 9 9 9 9 9 \n",
      " 9 9 9 9 9 9 9 9 \n",
      "9 9 9 9 9 9 9 9 9 \n"
     ]
    }
   ],
   "source": [
    "def pyramid(n):\n",
    "    for i in range(0, n):\n",
    "        for j in range(0, n-i-1):\n",
    "            print(end=\" \")\n",
    "        for j in range(0, i+1):\n",
    "            print(\"9\", end=\" \")\n",
    "        print()\n",
    "            \n",
    "pyramid(9)"
   ]
  },
  {
   "cell_type": "code",
   "execution_count": 46,
   "id": "a3bcad3d",
   "metadata": {},
   "outputs": [
    {
     "name": "stdout",
     "output_type": "stream",
     "text": [
      "{'a': 1, 'b': 2, 'c': 3}\n"
     ]
    }
   ],
   "source": [
    "#8\n",
    "keys = ['a','b','c']\n",
    "values = [1,2,3]\n",
    "my_dict={k: v for k, v in zip(keys,values)}\n",
    "print(my_dict)"
   ]
  },
  {
   "cell_type": "code",
   "execution_count": null,
   "id": "64ae1d88",
   "metadata": {},
   "outputs": [],
   "source": []
  }
 ],
 "metadata": {
  "kernelspec": {
   "display_name": "Python 3 (ipykernel)",
   "language": "python",
   "name": "python3"
  },
  "language_info": {
   "codemirror_mode": {
    "name": "ipython",
    "version": 3
   },
   "file_extension": ".py",
   "mimetype": "text/x-python",
   "name": "python",
   "nbconvert_exporter": "python",
   "pygments_lexer": "ipython3",
   "version": "3.10.9"
  }
 },
 "nbformat": 4,
 "nbformat_minor": 5
}
